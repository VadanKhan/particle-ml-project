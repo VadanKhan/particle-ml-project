{
 "cells": [
  {
   "cell_type": "code",
   "execution_count": 18,
   "id": "89902eb1",
   "metadata": {},
   "outputs": [],
   "source": [
    "%matplotlib widget\n",
    "from EventDisplay import EvDisp\n",
    "from EventDisplay import list_entries"
   ]
  },
  {
   "cell_type": "code",
   "execution_count": 25,
   "id": "a9d00d90",
   "metadata": {},
   "outputs": [],
   "source": [
    "# Default run\n",
    "run=17201\n",
    "subrun=8\n",
    "event=406"
   ]
  },
  {
   "cell_type": "code",
   "execution_count": 26,
   "id": "f7914dc5-b8e5-4b8e-8518-14d67a566cce",
   "metadata": {},
   "outputs": [
    {
     "name": "stdout",
     "output_type": "stream",
     "text": [
      "Event: 9545, Subrun: 190, Run: 18492\n",
      "Event: 406, Subrun: 8, Run: 17201\n",
      "Event: 7353, Subrun: 147, Run: 15227\n",
      "Event: 4358, Subrun: 87, Run: 16042\n",
      "Event: 2463, Subrun: 49, Run: 14290\n",
      "Event: 1350, Subrun: 26, Run: 15892\n",
      "Event: 2543, Subrun: 50, Run: 14779\n",
      "Event: 4854, Subrun: 97, Run: 17851\n",
      "Event: 2940, Subrun: 58, Run: 14770\n",
      "Event: 3405, Subrun: 68, Run: 14770\n",
      "Event: 3983, Subrun: 79, Run: 15339\n",
      "Event: 6651, Subrun: 133, Run: 16147\n",
      "Event: 4862, Subrun: 97, Run: 17662\n",
      "Event: 4892, Subrun: 97, Run: 17662\n",
      "Event: 2675, Subrun: 53, Run: 16145\n",
      "Event: 3942, Subrun: 78, Run: 15228\n",
      "Event: 6082, Subrun: 121, Run: 18515\n",
      "Event: 6657, Subrun: 133, Run: 18515\n",
      "Event: 16, Subrun: 0, Run: 17652\n",
      "Event: 9220, Subrun: 184, Run: 17849\n",
      "Event: 11995, Subrun: 239, Run: 17849\n"
     ]
    }
   ],
   "source": [
    "# print list of 10 entries\n",
    "events = list_entries('slim', sliced = True, slice_val = 20)\n",
    "# list_entries('mc') # prints all events"
   ]
  },
  {
   "cell_type": "code",
   "execution_count": 21,
   "id": "5e77715c",
   "metadata": {},
   "outputs": [
    {
     "ename": "TypeError",
     "evalue": "'NoneType' object is not iterable",
     "output_type": "error",
     "traceback": [
      "\u001b[1;31m---------------------------------------------------------------------------\u001b[0m",
      "\u001b[1;31mTypeError\u001b[0m                                 Traceback (most recent call last)",
      "Cell \u001b[1;32mIn[21], line 6\u001b[0m\n\u001b[0;32m      1\u001b[0m \u001b[38;5;66;03m# EvDisp will plot the events\u001b[39;00m\n\u001b[0;32m      2\u001b[0m \u001b[38;5;66;03m# EvDisp(run, subrun, event, plane, data_file)\u001b[39;00m\n\u001b[0;32m      3\u001b[0m \n\u001b[0;32m      4\u001b[0m \n\u001b[0;32m      5\u001b[0m \u001b[38;5;66;03m# Planes 0,1,2 -> U,V,W\u001b[39;00m\n\u001b[1;32m----> 6\u001b[0m \u001b[38;5;28;43;01mfor\u001b[39;49;00m\u001b[43m \u001b[49m\u001b[43mevent\u001b[49m\u001b[43m,\u001b[49m\u001b[43m \u001b[49m\u001b[43msubrun\u001b[49m\u001b[43m,\u001b[49m\u001b[43m \u001b[49m\u001b[43mrun\u001b[49m\u001b[43m \u001b[49m\u001b[38;5;129;43;01min\u001b[39;49;00m\u001b[43m \u001b[49m\u001b[43mevents\u001b[49m\u001b[43m:\u001b[49m\n\u001b[0;32m      7\u001b[0m \u001b[43m    \u001b[49m\u001b[43mEvDisp\u001b[49m\u001b[43m(\u001b[49m\u001b[43mrun\u001b[49m\u001b[43m,\u001b[49m\u001b[43m \u001b[49m\u001b[43msubrun\u001b[49m\u001b[43m,\u001b[49m\u001b[43m \u001b[49m\u001b[43mevent\u001b[49m\u001b[43m,\u001b[49m\u001b[43m \u001b[49m\u001b[38;5;241;43m1\u001b[39;49m\u001b[43m,\u001b[49m\u001b[43m \u001b[49m\u001b[38;5;124;43m'\u001b[39;49m\u001b[38;5;124;43mslim\u001b[39;49m\u001b[38;5;124;43m'\u001b[39;49m\u001b[43m)\u001b[49m\n",
      "\u001b[1;31mTypeError\u001b[0m: 'NoneType' object is not iterable"
     ]
    }
   ],
   "source": [
    "# EvDisp will plot the events\n",
    "# EvDisp(run, subrun, event, plane, data_file)\n",
    "\n",
    "\n",
    "# Planes 0,1,2 -> U,V,W\n",
    "for event, subrun, run in events:\n",
    "    EvDisp(run, subrun, event, 1, 'slim')"
   ]
  },
  {
   "cell_type": "code",
   "execution_count": null,
   "metadata": {},
   "outputs": [],
   "source": []
  }
 ],
 "metadata": {
  "kernelspec": {
   "display_name": "Python 3 (ipykernel)",
   "language": "python",
   "name": "python3"
  },
  "language_info": {
   "codemirror_mode": {
    "name": "ipython",
    "version": 3
   },
   "file_extension": ".py",
   "mimetype": "text/x-python",
   "name": "python",
   "nbconvert_exporter": "python",
   "pygments_lexer": "ipython3",
   "version": "3.12.1"
  }
 },
 "nbformat": 4,
 "nbformat_minor": 5
}
